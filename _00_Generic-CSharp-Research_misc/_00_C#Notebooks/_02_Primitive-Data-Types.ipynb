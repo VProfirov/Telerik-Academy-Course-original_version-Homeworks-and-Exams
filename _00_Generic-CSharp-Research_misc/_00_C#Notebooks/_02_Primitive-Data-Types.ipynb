{
 "cells": [
  {
   "cell_type": "markdown",
   "metadata": {},
   "source": [
    "# C# supports the following predefined integral types:\n",
    "\n",
    "CHARACTERISTICS OF THE INTEGRAL TYPES\n",
    "C# type/keyword\t                    Range\t                          Size\t                    .NET type\n",
    "sbyte\t-128                       to 127\t                        Signed 8-bit integer\t    System.SByte\n",
    "byte\t0                          to 255\t                        Unsigned 8-bit integer\t    System.Byte\n",
    "short\t-32,768                    to 32,767\t                    Signed 16-bit integer\t    System.Int16\n",
    "ushort\t0                          to 65,535\t                    Unsigned 16-bit integer\t    System.UInt16\n",
    "int\t    -2,147,483,648             to 2,147,483,647\t                Signed 32-bit integer\t    System.Int32\n",
    "uint\t0                          to 4,294,967,295\t                Unsigned 32-bit integer\t    System.UInt32\n",
    "long\t-9,223,372,036,854,775,808 to 9,223,372,036,854,775,807\t    Signed 64-bit integer\t    System.Int64\n",
    "ulong\t0                          to 18,446,744,073,709,551,615\tUnsigned 64-bit integer\t    System.UInt64\n",
    "\n",
    "### Since C#9 There is System Native integer types\n",
    "nint\tDepends on platform\tSigned                                  32-bit or 64-bit integer\tSystem.IntPtr\n",
    "nuint\tDepends on platform\tUnsigned                                32-bit or 64-bit integer"
   ]
  },
  {
   "cell_type": "markdown",
   "metadata": {},
   "source": [
    "### Natural number (inger derivatives):\n",
    "|type/keyword|Range - Lower Bound|Range - Upper Bound| Size | .NET type|\n",
    "|---|---|---|---|---|\n",
    "|sbye|-128| 127| Signed 8bit integer | System.SByte|\n",
    "|byte|0| 256| Unsigned 8bit integer | System.Byte|\n",
    "|short|-32,768|32,767| Signed 16-bit integer | System.Int16|\n",
    "|ushort|0|65,535| Unsigned 16-bit integer | System.UInt16|\n",
    "|int|-2,147,483,648|2,147,483,647| Signed 32-bit integer | System.Int32|\n",
    "|uint|0|4,294,967,295| Unsigned 32-bit integer | System.UInt32|\n",
    "|long |-9,223,372,036,854,775,808|9,223,372,036,854,775,807| Signed 64-bit integer | System.Int64|\n",
    "|ulong|0|18,446,744,073,709,551,615| Unsigned 64-bit integer | System.UInt64|\n",
    "\n",
    "\n",
    "### Since C#9 There is System Native integer types\n",
    "|type/keyword|Range - Lower Bound|Range - Upper Bound| Size | .NET type|\n",
    "|---|---|---|---|---|\n",
    "|nint| Depends on platform||\tSigned 32-bit or 64-bit integer\t|System.IntPtr|\n",
    "|nuint| Depends on platform\tUnsigned|| 32-bit or 64-bit integer|System.UIntPtr|"
   ]
  },
  {
   "cell_type": "markdown",
   "metadata": {},
   "source": [
    "# Single point precision - \"abnormalities\""
   ]
  },
  {
   "cell_type": "markdown",
   "metadata": {},
   "source": [
    "There used to be abnomaralities and the \"==\" comparison was evaluating to FALSE, but the newer versions of the language are taking care of this as they are comparing with some degree of rpecision:"
   ]
  },
  {
   "cell_type": "code",
   "execution_count": null,
   "metadata": {},
   "outputs": [
    {
     "data": {
      "text/plain": "True\n"
     },
     "output_type": "unknown"
    },
    {
     "data": {
      "text/plain": "1 + 0.33000001311302185 <=> 1.3300000131130219 == 1.3300000131130219 => True\n"
     },
     "output_type": "unknown"
    },
    {
     "data": {
      "text/plain": "0.33000001311302185 =?= 0.33000001311302185\n"
     },
     "output_type": "unknown"
    },
    {
     "data": {
      "text/plain": "1\n"
     },
     "output_type": "unknown"
    }
   ],
   "source": [
    "double a = 1.0f;\n",
    "double b = 0.33f;\n",
    "double sum = a + b;\n",
    "Console.WriteLine(sum == a + b);\n",
    "Console.WriteLine($\"{a} + {b} <=> {a+b} == {sum} => {sum == a + b}\");\n",
    "Console.WriteLine($\"{b} =?= {sum - a}\");\n",
    "Console.WriteLine($\"{a}\");"
   ]
  },
  {
   "cell_type": "markdown",
   "metadata": {},
   "source": [
    "# Strings\n"
   ]
  },
  {
   "cell_type": "markdown",
   "metadata": {},
   "source": [
    "# Char -> The character data type\n",
    "1. Represents symbolic information\n",
    "2. Is declared by the char keyword\n",
    "3. Gives each symbol a **corresponding integer code**\n",
    "4. Has a **'\\0'** default value\n",
    "5. Takes 16 bits (as ushort) of memory (from U+0000 to U+FFFF)\n"
   ]
  },
  {
   "cell_type": "code",
   "execution_count": null,
   "metadata": {},
   "outputs": [],
   "source": []
  }
 ],
 "metadata": {
  "kernelspec": {
   "display_name": ".NET (C#)",
   "language": "C#",
   "name": ".net-csharp"
  },
  "language_info": {
   "name": "python",
   "version": ""
  },
  "metadata": {
   "interpreter": {
    "hash": "f92b2924b84ff19c1c3dc485f7644d4486f64738191026bf8e6de303969141b5"
   }
  },
  "orig_nbformat": 2
 },
 "nbformat": 4,
 "nbformat_minor": 2
}