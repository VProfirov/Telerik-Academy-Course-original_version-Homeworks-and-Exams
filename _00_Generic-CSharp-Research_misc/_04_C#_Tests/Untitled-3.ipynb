{
  "cells": [
    {
      "cell_type": "code",
      "execution_count": 1,
      "metadata": {
        "dotnet_interactive": {
          "language": "csharp"
        }
      },
      "source": [
        "private static bool IsPrime(int number)\n",
        "        {\n",
        "            if (number < 2) return false;\n",
        "            if (number == 2) return true;\n",
        "            for (int i = 2; i <= (int)Math.Sqrt(number); i++)\n",
        "            {\n",
        "                if (number % i == 0) return false;\n",
        "            }\n",
        "            return true;\n",
        "        }\n",
        "\n",
        "Console.WriteLine(IsPrime(4));"
      ],
      "outputs": [
        {
          "output_type": "execute_result",
          "data": {
            "text/plain": "False\n"
          },
          "execution_count": 1,
          "metadata": {}
        }
      ]
    },
    {
      "cell_type": "code",
      "execution_count": 1,
      "metadata": {
        "dotnet_interactive": {
          "language": "csharp"
        }
      },
      "source": [
        "int a = 2;\n",
        "double b = Math.Sqrt(8);\n",
        "Console.WriteLine( a == b);"
      ],
      "outputs": [
        {
          "output_type": "execute_result",
          "data": {
            "text/plain": "False\n"
          },
          "execution_count": 1,
          "metadata": {}
        }
      ]
    },
    {
      "cell_type": "code",
      "execution_count": 1,
      "metadata": {
        "dotnet_interactive": {
          "language": "csharp"
        }
      },
      "source": [
        ":"
      ],
      "outputs": []
    }
  ],
  "metadata": {
    "kernelspec": {
      "display_name": ".NET (C#)",
      "language": "C#",
      "name": ".net-csharp"
    },
    "language_info": {
      "file_extension": ".cs",
      "mimetype": "text/x-csharp",
      "name": "C#",
      "pygments_lexer": "csharp",
      "version": "8.0"
    }
  },
  "nbformat": 4,
  "nbformat_minor": 4
}