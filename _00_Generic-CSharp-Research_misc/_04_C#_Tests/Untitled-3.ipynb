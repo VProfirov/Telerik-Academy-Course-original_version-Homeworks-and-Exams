{
  "cells": [
    {
      "cell_type": "code",
      "execution_count": 1,
      "metadata": {
        "dotnet_interactive": {
          "language": "csharp"
        }
      },
      "source": [
        "private static bool IsPrime(int number)\n",
        "        {\n",
        "            if (number < 2) return false;\n",
        "            if (number == 2) return true;\n",
        "            for (int i = 2; i <= (int)Math.Sqrt(number); i++)\n",
        "            {\n",
        "                if (number % i == 0) return false;\n",
        "            }\n",
        "            return true;\n",
        "        }\n",
        "\n",
        "Console.WriteLine(IsPrime(11));"
      ],
      "outputs": [
        {
          "output_type": "execute_result",
          "data": {
            "text/plain": "True\n"
          },
          "execution_count": 1,
          "metadata": {}
        }
      ]
    },
    {
      "cell_type": "code",
      "execution_count": 1,
      "metadata": {
        "dotnet_interactive": {
          "language": "csharp"
        }
      },
      "source": [
        "int a = 2;\n",
        "double b = Math.Sqrt(8);\n",
        "Console.WriteLine( a == b);"
      ],
      "outputs": [
        {
          "output_type": "execute_result",
          "data": {
            "text/plain": "False\n"
          },
          "execution_count": 1,
          "metadata": {}
        }
      ]
    },
    {
      "cell_type": "code",
      "execution_count": 1,
      "metadata": {
        "dotnet_interactive": {
          "language": "csharp"
        }
      },
      "source": [
        "using System;\n",
        "using System.Linq;\n",
        "static class Task\n",
        "{\n",
        "    const double radius = 1.5;\n",
        "    const double xY = 1;\n",
        "\n",
        "    public static void Solution()\n",
        "    {\n",
        "        // Console.Write(\"Enter the coordinates X and Y separated by a space. \");\n",
        "        double[] coords = \"2.5 1\"\n",
        "            .Trim()\n",
        "            .Split(new char[] { ' ', '\\t' }, StringSplitOptions.RemoveEmptyEntries)\n",
        "            .Select(x => Double.Parse(x))\n",
        "            .ToArray();\n",
        "        Console.WriteLine(IsInsideCircle(coords[0], coords[1]) && IsOutsideRectangle(coords[0], coords[1]));\n",
        "        Console.WriteLine($\"{(IsInsideCircle(coords[0], coords[1]) ? \"inside\" : \"ouside\")} circle {(IsOutsideRectangle(coords[0], coords[1]) ? \"outside\" : \"inside\")} rectangle\");\n",
        "    }\n",
        "    static bool IsInsideCircle(double x, double y)\n",
        "    {\n",
        "        return (Math.Pow((xY - x), 2) + Math.Pow((xY - y), 2) <= radius * radius);\n",
        "    }\n",
        "    static bool IsOutsideRectangle(double X, double Y)\n",
        "    {\n",
        "        //R(top=1, left=-1, width=6, height=2)\n",
        "        double left = -1, right = 5, top = 1, bottom = -1;\n",
        "        return !(Y <= top && Y >= bottom && X >= left && xY <= right);\n",
        "    }\n",
        "}\n",
        "\n",
        "Task.Solution();"
      ],
      "outputs": [
        {
          "output_type": "execute_result",
          "data": {
            "text/plain": "False\n"
          },
          "execution_count": 1,
          "metadata": {}
        },
        {
          "output_type": "execute_result",
          "data": {
            "text/plain": "inside circle inside rectangle\n"
          },
          "execution_count": 1,
          "metadata": {}
        }
      ]
    },
    {
      "cell_type": "code",
      "execution_count": 1,
      "metadata": {
        "dotnet_interactive": {
          "language": "csharp"
        }
      },
      "source": [
        "// var name = Console.ReadLine();\n",
        "Console.WriteLine($\"Hello {\"Vas\"}\");"
      ],
      "outputs": [
        {
          "output_type": "execute_result",
          "data": {
            "text/plain": "Hello Vas\n"
          },
          "execution_count": 1,
          "metadata": {}
        }
      ]
    }
  ],
  "metadata": {
    "kernelspec": {
      "display_name": ".NET (C#)",
      "language": "C#",
      "name": ".net-csharp"
    },
    "language_info": {
      "file_extension": ".cs",
      "mimetype": "text/x-csharp",
      "name": "C#",
      "pygments_lexer": "csharp",
      "version": "8.0"
    }
  },
  "nbformat": 4,
  "nbformat_minor": 4
}